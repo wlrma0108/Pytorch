{
  "nbformat": 4,
  "nbformat_minor": 0,
  "metadata": {
    "colab": {
      "name": "Untitled10.ipynb",
      "provenance": [],
      "authorship_tag": "ABX9TyN661yNLpzq9NLUGvQ43X/f",
      "include_colab_link": true
    },
    "kernelspec": {
      "name": "python3",
      "display_name": "Python 3"
    },
    "language_info": {
      "name": "python"
    }
  },
  "cells": [
    {
      "cell_type": "markdown",
      "metadata": {
        "id": "view-in-github",
        "colab_type": "text"
      },
      "source": [
        "<a href=\"https://colab.research.google.com/github/wlrma0108/Pytorch/blob/main/Bidirectional%20Recurrent%20Neural%20Network.ipynb\" target=\"_parent\"><img src=\"https://colab.research.google.com/assets/colab-badge.svg\" alt=\"Open In Colab\"/></a>"
      ]
    },
    {
      "cell_type": "code",
      "execution_count": 1,
      "metadata": {
        "colab": {
          "base_uri": "https://localhost:8080/"
        },
        "id": "LQORfLNUm_Tu",
        "outputId": "db32a45e-f292-48e6-91d9-80a56df60555"
      },
      "outputs": [
        {
          "output_type": "stream",
          "name": "stdout",
          "text": [
            "Requirement already satisfied: torch in /usr/local/lib/python3.7/dist-packages (1.10.0+cu111)\n",
            "Requirement already satisfied: typing-extensions in /usr/local/lib/python3.7/dist-packages (from torch) (3.10.0.2)\n"
          ]
        }
      ],
      "source": [
        "!pip3 install torch"
      ]
    },
    {
      "cell_type": "code",
      "source": [
        "import torch \n",
        "import torch.nn as nn\n",
        "import torchvision\n",
        "import torchvision.transforms as transforms\n",
        "import numpy as np\n",
        "from torch.nn.utils import clip_grad_norm"
      ],
      "metadata": {
        "id": "1GvcN2bdnDg7"
      },
      "execution_count": 3,
      "outputs": []
    },
    {
      "cell_type": "code",
      "source": [
        "device=torch.device=('cuda' if torch.cuda.is_available() else 'cpu')\n",
        "\n",
        "sequence_length=28\n",
        "input_size=28\n",
        "hidden_size=128\n",
        "num_layers=2\n",
        "num_classes=10\n",
        "batch_size=100\n",
        "num_epochs=2\n",
        "learning_rate=0.003"
      ],
      "metadata": {
        "id": "I18psUoKnDn7"
      },
      "execution_count": 4,
      "outputs": []
    },
    {
      "cell_type": "code",
      "source": [
        "train_dataset=torchvision.datasets.MNIST(root='../../data/',train=True,transform=transforms.ToTensor(),download=True)\n",
        "test_dataset=torchvision.datasets.MNIST(root='../../data/',train=False,transform=transforms.ToTensor())\n",
        "train_loader=torch.utils.data.DataLoader(dataset=train_dataset,batch_size=batch_size,shuffle=True)\n",
        "test_loader=torch.utils.data.DataLoader(dataset=test_dataset,batch_size=batch_size,shuffle=False)\n"
      ],
      "metadata": {
        "id": "OxmktRfvnDvC"
      },
      "execution_count": 8,
      "outputs": []
    },
    {
      "cell_type": "code",
      "source": [
        "class BiRNN(nn.Module):\n",
        "  def __init__(self,input_size,hidden_size, num_layers,num_classes):\n",
        "    super(BiRNN,self).__init__()\n",
        "    self.hidden_size=hidden_size\n",
        "    self.num_layers=num_layers\n",
        "    self.lstm=nn.LSTM(input_size,hidden_size,num_layers,batch_first=True,bidirectional=True)\n",
        "    self.fc=nn.Linear(hidden_size*2,num_classes)\n",
        "\n",
        "  def forward(self,x):\n",
        "    h0=torch.zeros(self.num_layers*2,x.size(0),self.hidden_size).to(device)\n",
        "    c0=torch.zeros(self.num_layers*2,x.size(0),self.hidden_size).to(device)\n",
        "\n",
        "    out,_=self.lstm(x,(h0,c0))\n",
        "\n",
        "    out=self.fc(out[:,-1,:])\n",
        "    return out\n",
        "model=BiRNN(input_size,hidden_size,num_layers,num_classes).to(device)"
      ],
      "metadata": {
        "id": "e3mcRF09nD2S"
      },
      "execution_count": 12,
      "outputs": []
    },
    {
      "cell_type": "code",
      "source": [
        "criterion=nn.CrossEntropyLoss()\n",
        "optimizer=torch.optim.Adam(model.parameters(), lr=learning_rate)\n",
        "\n",
        "total_step=len(train_loader)\n",
        "for epoch in range(num_epochs):\n",
        "  for i, (images,labels)in enumerate(train_loader):\n",
        "    images=images.reshape(-1,sequence_length,input_size).to(device)\n",
        "    labels=labels.to(device)\n",
        "\n",
        "    outputs=model(images)\n",
        "    loss=criterion(outputs,labels)\n",
        "    optimizer.zero_grad()\n",
        "    loss.backward()\n",
        "    optimizer.step()\n",
        "\n",
        "    if(i+1)%100==0:\n",
        "      print('Epoch[{}/{}], step []{}/{}],Loss:{:.4f}'.format(epoch+1,num_epochs,i+1,total_step,loss.item()))\n",
        "\n",
        "\n",
        "with torch.no_grad():\n",
        "  correct=0\n",
        "  total=0\n",
        "  for images,labels in test_loader:\n",
        "    images=images.reshape(-1,sequence_length,input_size).to(device)\n",
        "    labels=labels.to(device)\n",
        "    outputs=model(images)\n",
        "    _,predicted=torch.max(outputs.data,1)\n",
        "    total+=labels.size(0)\n",
        "    correct+=(predicted==labels).sum().item()\n",
        "  print('Test Accuracy og the model on the 10000 test images: {}%'.format(100*correct/total))\n",
        "torch.save(model.state_dict(),'codel.ckpt')\n",
        "\n"
      ],
      "metadata": {
        "colab": {
          "base_uri": "https://localhost:8080/"
        },
        "id": "6xfzxYiKnD9S",
        "outputId": "facf4f91-484b-4ab8-a2fd-a2ac60a89c1c"
      },
      "execution_count": 13,
      "outputs": [
        {
          "output_type": "stream",
          "name": "stdout",
          "text": [
            "Epoch[1/2], step []100/600],Loss:0.8190\n",
            "Epoch[1/2], step []200/600],Loss:0.3203\n",
            "Epoch[1/2], step []300/600],Loss:0.1788\n",
            "Epoch[1/2], step []400/600],Loss:0.1465\n",
            "Epoch[1/2], step []500/600],Loss:0.0848\n",
            "Epoch[1/2], step []600/600],Loss:0.1022\n",
            "Epoch[2/2], step []100/600],Loss:0.1851\n",
            "Epoch[2/2], step []200/600],Loss:0.1549\n",
            "Epoch[2/2], step []300/600],Loss:0.0856\n",
            "Epoch[2/2], step []400/600],Loss:0.1152\n",
            "Epoch[2/2], step []500/600],Loss:0.1085\n",
            "Epoch[2/2], step []600/600],Loss:0.0567\n",
            "Test Accuracy og the model on the 10000 test images: 97.44%\n"
          ]
        }
      ]
    }
  ]
}