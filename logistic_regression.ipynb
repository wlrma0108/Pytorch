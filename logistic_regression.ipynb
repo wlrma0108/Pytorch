{
  "nbformat": 4,
  "nbformat_minor": 0,
  "metadata": {
    "colab": {
      "name": "Untitled2.ipynb",
      "provenance": [],
      "authorship_tag": "ABX9TyOGYlCLrOZgydD36Uv0p7q5",
      "include_colab_link": true
    },
    "kernelspec": {
      "name": "python3",
      "display_name": "Python 3"
    },
    "language_info": {
      "name": "python"
    }
  },
  "cells": [
    {
      "cell_type": "markdown",
      "metadata": {
        "id": "view-in-github",
        "colab_type": "text"
      },
      "source": [
        "<a href=\"https://colab.research.google.com/github/wlrma0108/Pytorch/blob/main/logistic_regression.ipynb\" target=\"_parent\"><img src=\"https://colab.research.google.com/assets/colab-badge.svg\" alt=\"Open In Colab\"/></a>"
      ]
    },
    {
      "cell_type": "code",
      "execution_count": 4,
      "metadata": {
        "colab": {
          "base_uri": "https://localhost:8080/"
        },
        "id": "shIRJn-HaaO7",
        "outputId": "f8b93450-5c74-4325-d6d9-af90326c7f86"
      },
      "outputs": [
        {
          "output_type": "stream",
          "name": "stdout",
          "text": [
            "Requirement already satisfied: torch in /usr/local/lib/python3.7/dist-packages (1.10.0+cu111)\n",
            "Requirement already satisfied: typing-extensions in /usr/local/lib/python3.7/dist-packages (from torch) (3.10.0.2)\n"
          ]
        }
      ],
      "source": [
        "!pip3 install torch"
      ]
    },
    {
      "cell_type": "code",
      "source": [
        "import torch\n",
        "import torch.nn as nn\n",
        "import torchvision\n",
        "import torchvision.transforms as transforms"
      ],
      "metadata": {
        "id": "pvstOz20idbd"
      },
      "execution_count": 5,
      "outputs": []
    },
    {
      "cell_type": "code",
      "source": [
        "input_size =28*28\n",
        "num_classes =10\n",
        "num_epochs=5\n",
        "batch_size=100\n",
        "learning_rate=0.001\n"
      ],
      "metadata": {
        "id": "JPG6ufrBideN"
      },
      "execution_count": 8,
      "outputs": []
    },
    {
      "cell_type": "code",
      "source": [
        "train_dataset = torchvision.datasets.MNIST(root='../../data', \n",
        "                                           train=True, \n",
        "                                           transform=transforms.ToTensor(),\n",
        "                                           download=True)\n",
        "\n",
        "test_dataset = torchvision.datasets.MNIST(root='../../data', \n",
        "                                          train=False, \n",
        "                                          transform=transforms.ToTensor())\n",
        "\n",
        "# Data loader (input pipeline)\n",
        "train_loader = torch.utils.data.DataLoader(dataset=train_dataset, \n",
        "                                           batch_size=batch_size, \n",
        "                                           shuffle=True)\n",
        "\n",
        "test_loader = torch.utils.data.DataLoader(dataset=test_dataset, \n",
        "                                          batch_size=batch_size, \n",
        "                                           shuffle=False)"
      ],
      "metadata": {
        "id": "IZ7FpG0xido9"
      },
      "execution_count": 9,
      "outputs": []
    },
    {
      "cell_type": "code",
      "source": [
        "model= nn.Linear(input_size, num_classes)\n",
        "criterion=nn.CrossEntropyLoss()\n",
        "optimizer=torch.optim.SGD(model.parameters(), lr=learning_rate)\n",
        "total_step=len(train_loader)\n",
        "for epoch in range(num_epochs):\n",
        "  for i, (images, labels) in enumerate(train_loader):\n",
        "    images=images.reshape(-1,input_size)\n",
        "    outputs=model(images)\n",
        "    loss=criterion(outputs,labels)\n",
        "    optimizer.zero_grad()\n",
        "    loss.backward()\n",
        "    optimizer.step()\n",
        "\n",
        "    if(i+1) %100 ==0:\n",
        "      print ('Epoch [{}/{}, Step[{}/{}],Loss:{:.4f}'.format(epoch+1,num_epochs,i+1,total_step,loss.item()))"
      ],
      "metadata": {
        "colab": {
          "base_uri": "https://localhost:8080/"
        },
        "id": "XEL6jIzRid1W",
        "outputId": "3d464f7b-c52a-4672-b940-ff23f1cddf53"
      },
      "execution_count": 11,
      "outputs": [
        {
          "output_type": "stream",
          "name": "stdout",
          "text": [
            "Epoch [1/5, Step[100/600],Loss:2.2342\n",
            "Epoch [1/5, Step[200/600],Loss:2.1457\n",
            "Epoch [1/5, Step[300/600],Loss:2.0214\n",
            "Epoch [1/5, Step[400/600],Loss:1.9925\n",
            "Epoch [1/5, Step[500/600],Loss:1.9043\n",
            "Epoch [1/5, Step[600/600],Loss:1.8529\n",
            "Epoch [2/5, Step[100/600],Loss:1.7401\n",
            "Epoch [2/5, Step[200/600],Loss:1.6973\n",
            "Epoch [2/5, Step[300/600],Loss:1.6297\n",
            "Epoch [2/5, Step[400/600],Loss:1.6294\n",
            "Epoch [2/5, Step[500/600],Loss:1.4639\n",
            "Epoch [2/5, Step[600/600],Loss:1.4901\n",
            "Epoch [3/5, Step[100/600],Loss:1.5010\n",
            "Epoch [3/5, Step[200/600],Loss:1.4061\n",
            "Epoch [3/5, Step[300/600],Loss:1.3647\n",
            "Epoch [3/5, Step[400/600],Loss:1.3374\n",
            "Epoch [3/5, Step[500/600],Loss:1.2038\n",
            "Epoch [3/5, Step[600/600],Loss:1.3220\n",
            "Epoch [4/5, Step[100/600],Loss:1.2777\n",
            "Epoch [4/5, Step[200/600],Loss:1.2342\n",
            "Epoch [4/5, Step[300/600],Loss:1.1989\n",
            "Epoch [4/5, Step[400/600],Loss:1.1505\n",
            "Epoch [4/5, Step[500/600],Loss:1.1497\n",
            "Epoch [4/5, Step[600/600],Loss:1.1014\n",
            "Epoch [5/5, Step[100/600],Loss:1.1481\n",
            "Epoch [5/5, Step[200/600],Loss:1.1260\n",
            "Epoch [5/5, Step[300/600],Loss:1.0996\n",
            "Epoch [5/5, Step[400/600],Loss:1.0141\n",
            "Epoch [5/5, Step[500/600],Loss:0.9407\n",
            "Epoch [5/5, Step[600/600],Loss:1.0861\n"
          ]
        }
      ]
    },
    {
      "cell_type": "code",
      "source": [
        "with torch.no_grad():\n",
        "  correct=0\n",
        "  total =0\n",
        "  for images, labels in test_loader:\n",
        "      images= images.reshape(-1, input_size)\n",
        "      outputs=model(images)\n",
        "      _,predicted=torch.max(outputs.data,1)\n",
        "      total+=labels.size(0)\n",
        "      correct+=(predicted==labels).sum()\n",
        "  print('Accuracy of the model on the 10000 test images: {}%'.format(100*correct/total))\n",
        "\n",
        "torch.save(model.state_dict(), 'model.ckpt')\n",
        "\n"
      ],
      "metadata": {
        "colab": {
          "base_uri": "https://localhost:8080/"
        },
        "id": "k342GBK4id9m",
        "outputId": "1d29d6e2-7cfd-407a-b3ff-53ea31becef3"
      },
      "execution_count": 17,
      "outputs": [
        {
          "output_type": "stream",
          "name": "stdout",
          "text": [
            "Accuracy of the model on the 10000 test images: 82.48999786376953%\n"
          ]
        }
      ]
    },
    {
      "cell_type": "code",
      "source": [
        ""
      ],
      "metadata": {
        "id": "RDivPBpiieDl"
      },
      "execution_count": null,
      "outputs": []
    },
    {
      "cell_type": "code",
      "source": [
        ""
      ],
      "metadata": {
        "id": "fOJzBPN1ieId"
      },
      "execution_count": null,
      "outputs": []
    },
    {
      "cell_type": "code",
      "source": [
        ""
      ],
      "metadata": {
        "id": "m6Rsn9YBiemV"
      },
      "execution_count": null,
      "outputs": []
    },
    {
      "cell_type": "code",
      "source": [
        ""
      ],
      "metadata": {
        "id": "fjgbwv62ier1"
      },
      "execution_count": null,
      "outputs": []
    },
    {
      "cell_type": "code",
      "source": [
        ""
      ],
      "metadata": {
        "id": "-RZ2lljAiexI"
      },
      "execution_count": null,
      "outputs": []
    }
  ]
}